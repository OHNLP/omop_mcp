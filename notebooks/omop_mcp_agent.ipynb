{
 "cells": [
  {
   "cell_type": "markdown",
   "metadata": {},
   "source": [
    "# OMOP MCP Agent Example\n",
    "\n",
    "This notebook demonstrates how to use the OMOP MCP agent programmatically for single and batch mapping."
   ]
  },
  {
   "cell_type": "code",
   "execution_count": null,
   "metadata": {},
   "outputs": [],
   "source": [
    "from omop_mcp.agent import run_agent\n",
    "from omop_mcp.no_mcp import run_llm_no_mcp\n",
    "import logging\n",
    "\n",
    "import logging\n",
    "\n",
    "logging.basicConfig(\n",
    "    level=logging.INFO,  # or logging.DEBUG for more detail\n",
    "    format=\"%(asctime)s %(levelname)s %(message)s\"\n",
    ")"
   ]
  },
  {
   "cell_type": "markdown",
   "metadata": {},
   "source": [
    "## Single Prompt Example"
   ]
  },
  {
   "cell_type": "code",
   "execution_count": null,
   "metadata": {},
   "outputs": [],
   "source": [
    "# result = await run_openai_agent(\n",
    "#     'Map `Temperature Temporal Scanner - RR` for `measurement_concept_id` in the `measurement` table.'\n",
    "# )\n",
    "\n",
    "result = await run_agent('Map `Mean Arterial Pressure (Invasive)` for `measurement_concept_id` in the measurement` table')\n",
    "print(result)"
   ]
  },
  {
   "cell_type": "code",
   "execution_count": null,
   "metadata": {},
   "outputs": [],
   "source": [
    "prompt = 'Map `Temperature Temporal Scanner - RR` for `measurement_concept_id` in the `measurement` table.'\n",
    "# prompt = 'Map `Mean Arterial Pressure (Invasive)` for `measurement_concept_id` in the measurement` table'\n",
    "\n",
    "no_mcp_result = await run_llm_no_mcp(prompt)\n",
    "print(\"No MCP Result: \\n\\n\")\n",
    "print(no_mcp_result)\n",
    "print(\"\\n\\n\")\n",
    "\n",
    "mcp_result = await run_agent(prompt)\n",
    "print(\"MCP Result: \\n\\n\")\n",
    "print(mcp_result)"
   ]
  },
  {
   "cell_type": "markdown",
   "metadata": {},
   "source": [
    "## Batch Mapping from CSV Example\n",
    "\n",
    "Assume you have a CSV file `input.csv` with columns: `keyword`, `omop_table`, `omop_field`."
   ]
  },
  {
   "cell_type": "code",
   "execution_count": null,
   "metadata": {},
   "outputs": [],
   "source": [
    "import pandas as pd\n",
    "df = pd.read_csv('../data/input_data.csv')\n",
    "results = []\n",
    "for _, row in df.iterrows():\n",
    "    prompt = f\"Map `{row['keyword']}` for `{row['omop_field']}` in the `{row['omop_table']}` table.\"\n",
    "    result = await run_agent(prompt)\n",
    "    results.append(result)\n",
    "df['mapping_result'] = results\n",
    "df.to_csv('../data/output.csv', index=False)\n",
    "df.head()"
   ]
  }
 ],
 "metadata": {
  "kernelspec": {
   "display_name": ".venv",
   "language": "python",
   "name": "python3"
  },
  "language_info": {
   "codemirror_mode": {
    "name": "ipython",
    "version": 3
   },
   "file_extension": ".py",
   "mimetype": "text/x-python",
   "name": "python",
   "nbconvert_exporter": "python",
   "pygments_lexer": "ipython3",
   "version": "3.12.4"
  }
 },
 "nbformat": 4,
 "nbformat_minor": 2
}
