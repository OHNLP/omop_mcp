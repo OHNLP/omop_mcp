{
 "cells": [
  {
   "cell_type": "code",
   "execution_count": null,
   "metadata": {},
   "outputs": [],
   "source": [
    "from dotenv import load_dotenv\n",
    "\n",
    "load_dotenv()"
   ]
  },
  {
   "cell_type": "code",
   "execution_count": null,
   "metadata": {},
   "outputs": [],
   "source": [
    "from omop_mcp.agent import get_agent, run_agent\n",
    "\n",
    "# Simple test prompt\n",
    "test_prompt = \"Map 'Blood Pressure' for 'measurement_concept_id' in the 'measurement' table.\"\n",
    "\n",
    "async def test_models():\n",
    "    print(\"Testing Regular OpenAI...\")\n",
    "    result_openai = await run_agent(test_prompt)\n",
    "    print(\"\\nResult:\")\n",
    "    print(result_openai)\n",
    "    \n",
    "    print(\"\\n\" + \"-\"*50 + \"\\n\")\n",
    "    \n",
    "    print(\"Testing Azure OpenAI...\")\n",
    "    agent = get_agent(llm_provider=\"azure_openai\")\n",
    "    result_azure = await agent.run(query=test_prompt)\n",
    "    print(\"\\nResult:\")\n",
    "    print(result_azure)\n",
    "    \n",
    "    return result_openai, result_azure\n",
    "\n",
    "results = await test_models()"
   ]
  }
 ],
 "metadata": {
  "kernelspec": {
   "display_name": ".venv",
   "language": "python",
   "name": "python3"
  },
  "language_info": {
   "codemirror_mode": {
    "name": "ipython",
    "version": 3
   },
   "file_extension": ".py",
   "mimetype": "text/x-python",
   "name": "python",
   "nbconvert_exporter": "python",
   "pygments_lexer": "ipython3",
   "version": "3.12.4"
  }
 },
 "nbformat": 4,
 "nbformat_minor": 2
}
